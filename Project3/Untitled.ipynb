{
 "cells": [
  {
   "cell_type": "code",
   "execution_count": 41,
   "metadata": {
    "collapsed": false
   },
   "outputs": [],
   "source": [
    "def dot_product(a, b):\n",
    "    return sum([a[i]*b[i] for i in range(len(a))])\n",
    "\n"
   ]
  },
  {
   "cell_type": "code",
   "execution_count": 42,
   "metadata": {
    "collapsed": true
   },
   "outputs": [],
   "source": [
    "\n",
    "def decision( x, w, theta ):\n",
    "    return (dot_product(x, w) > theta)\n",
    "\n"
   ]
  },
  {
   "cell_type": "code",
   "execution_count": 43,
   "metadata": {
    "collapsed": false
   },
   "outputs": [],
   "source": [
    "\n",
    "def perceptron( training_data ):\n",
    "    theta = 0\n",
    "    weights = [ 0 ]\n",
    "    x = 0\n",
    "    converged = False\n",
    "    \n",
    "    while not converged:\n",
    "        x += 1\n",
    "        if x > 50: # Being lazy for now\n",
    "            converged = True\n",
    "\n",
    "        for key, val in training_data.items():\n",
    "            d = decision(key, weights, theta)\n",
    "            if d == val:\n",
    "                continue\n",
    "            elif d == False and val == True:\n",
    "                theta -= 1\n",
    "                for i in range(len(key)):\n",
    "                    weights[i] += key[i]\n",
    "\n",
    "            elif d == True  and val == False:\n",
    "                theta += 1\n",
    "                for i in range(len(key)):\n",
    "                    weights[i] -= key[i]\n",
    "        print ('%d, %d') % (weights, theta)\n",
    "\n",
    "    return weights, theta\n",
    "\n",
    "def decision( x, w, theta ):\n",
    "    return (dot_product(x, w) > theta)\n",
    "\n"
   ]
  },
  {
   "cell_type": "code",
   "execution_count": 44,
   "metadata": {
    "collapsed": false
   },
   "outputs": [],
   "source": [
    "\n",
    "def perceptron( training_data ):\n",
    "    theta = 0\n",
    "    weights = [ 0 ]\n",
    "    x = 0\n",
    "    converged = False\n",
    "    \n",
    "    while not converged:\n",
    "        x += 1\n",
    "        if x > 50: # Being lazy for now\n",
    "            converged = True\n",
    "\n",
    "        for key, val in training_data.items():\n",
    "            d = decision(key, weights, theta)\n",
    "            if d == val:\n",
    "                continue\n",
    "            elif d == False and val == True:\n",
    "                theta -= 1\n",
    "                for i in range(len(key)):\n",
    "                    weights[i] += key[i]\n",
    "\n",
    "            elif d == True  and val == False:\n",
    "                theta += 1\n",
    "                for i in range(len(key)):\n",
    "                    weights[i] -= key[i]\n",
    "        print ('%d, %d') % (weights, theta)\n",
    "\n",
    "    return weights, theta\n"
   ]
  },
  {
   "cell_type": "markdown",
   "metadata": {},
   "source": [
    "\n",
    "\n",
    "training_data = {\n",
    "        # Tuples!\n",
    "        (  1, ) : True,\n",
    "        ( 15, ) : False,\n",
    "        ( 25, ) : False,\n",
    "        (  3, ) : True,\n",
    "        (  9, ) : True,\n",
    "        ( 55, ) : False,\n",
    "        (  2, ) : True,\n",
    "}"
   ]
  },
  {
   "cell_type": "code",
   "execution_count": 45,
   "metadata": {
    "collapsed": false
   },
   "outputs": [
    {
     "name": "stdout",
     "output_type": "stream",
     "text": [
      "%d, %d\n"
     ]
    },
    {
     "ename": "TypeError",
     "evalue": "unsupported operand type(s) for %: 'NoneType' and 'tuple'",
     "output_type": "error",
     "traceback": [
      "\u001b[0;31m---------------------------------------------------------------------------\u001b[0m",
      "\u001b[0;31mTypeError\u001b[0m                                 Traceback (most recent call last)",
      "\u001b[0;32m<ipython-input-45-bd98b4b68a63>\u001b[0m in \u001b[0;36m<module>\u001b[0;34m()\u001b[0m\n\u001b[0;32m----> 1\u001b[0;31m \u001b[0mweights\u001b[0m\u001b[0;34m,\u001b[0m \u001b[0mtheta\u001b[0m \u001b[0;34m=\u001b[0m \u001b[0mperceptron\u001b[0m\u001b[0;34m(\u001b[0m \u001b[0mtraining_data\u001b[0m \u001b[0;34m)\u001b[0m\u001b[0;34m\u001b[0m\u001b[0m\n\u001b[0m\u001b[1;32m      2\u001b[0m \u001b[0;34m\u001b[0m\u001b[0m\n\u001b[1;32m      3\u001b[0m tests = {\n\u001b[1;32m      4\u001b[0m         \u001b[0;34m(\u001b[0m \u001b[0;36m30\u001b[0m\u001b[0;34m,\u001b[0m \u001b[0;34m)\u001b[0m \u001b[0;34m:\u001b[0m \u001b[0;32mFalse\u001b[0m\u001b[0;34m,\u001b[0m\u001b[0;34m\u001b[0m\u001b[0m\n\u001b[1;32m      5\u001b[0m         \u001b[0;34m(\u001b[0m \u001b[0;36m20\u001b[0m\u001b[0;34m,\u001b[0m \u001b[0;34m)\u001b[0m \u001b[0;34m:\u001b[0m \u001b[0;32mFalse\u001b[0m\u001b[0;34m,\u001b[0m\u001b[0;34m\u001b[0m\u001b[0m\n",
      "\u001b[0;32m<ipython-input-44-59a3c9fb6100>\u001b[0m in \u001b[0;36mperceptron\u001b[0;34m(training_data)\u001b[0m\n\u001b[1;32m     24\u001b[0m                 \u001b[0;32mfor\u001b[0m \u001b[0mi\u001b[0m \u001b[0;32min\u001b[0m \u001b[0mrange\u001b[0m\u001b[0;34m(\u001b[0m\u001b[0mlen\u001b[0m\u001b[0;34m(\u001b[0m\u001b[0mkey\u001b[0m\u001b[0;34m)\u001b[0m\u001b[0;34m)\u001b[0m\u001b[0;34m:\u001b[0m\u001b[0;34m\u001b[0m\u001b[0m\n\u001b[1;32m     25\u001b[0m                     \u001b[0mweights\u001b[0m\u001b[0;34m[\u001b[0m\u001b[0mi\u001b[0m\u001b[0;34m]\u001b[0m \u001b[0;34m-=\u001b[0m \u001b[0mkey\u001b[0m\u001b[0;34m[\u001b[0m\u001b[0mi\u001b[0m\u001b[0;34m]\u001b[0m\u001b[0;34m\u001b[0m\u001b[0m\n\u001b[0;32m---> 26\u001b[0;31m         \u001b[0mprint\u001b[0m \u001b[0;34m(\u001b[0m\u001b[0;34m'%d, %d'\u001b[0m\u001b[0;34m)\u001b[0m \u001b[0;34m%\u001b[0m \u001b[0;34m(\u001b[0m\u001b[0mweights\u001b[0m\u001b[0;34m,\u001b[0m \u001b[0mtheta\u001b[0m\u001b[0;34m)\u001b[0m\u001b[0;34m\u001b[0m\u001b[0m\n\u001b[0m\u001b[1;32m     27\u001b[0m \u001b[0;34m\u001b[0m\u001b[0m\n\u001b[1;32m     28\u001b[0m     \u001b[0;32mreturn\u001b[0m \u001b[0mweights\u001b[0m\u001b[0;34m,\u001b[0m \u001b[0mtheta\u001b[0m\u001b[0;34m\u001b[0m\u001b[0m\n",
      "\u001b[0;31mTypeError\u001b[0m: unsupported operand type(s) for %: 'NoneType' and 'tuple'"
     ]
    }
   ],
   "source": [
    "weights, theta = perceptron( training_data )\n",
    "\n",
    "tests = {\n",
    "        ( 30, ) : False,\n",
    "        ( 20, ) : False,\n",
    "        (  2, ) : True,\n",
    "        (  8, ) : True,\n",
    "        ( 15, ) : False\n",
    "}\n",
    "\n",
    "for key, val in tests.items():\n",
    "    d = decision(key, weights, theta)\n",
    "    answer = \"WRONG\"\n",
    "    if d == val:\n",
    "        answer = \"Correct!\"\n",
    "    print ('%s, %s, %d, %d') % (answer, key, d, val)"
   ]
  },
  {
   "cell_type": "code",
   "execution_count": null,
   "metadata": {
    "collapsed": true
   },
   "outputs": [],
   "source": []
  },
  {
   "cell_type": "code",
   "execution_count": null,
   "metadata": {
    "collapsed": true
   },
   "outputs": [],
   "source": []
  }
 ],
 "metadata": {
  "kernelspec": {
   "display_name": "Python 3",
   "language": "python",
   "name": "python3"
  }
 },
 "nbformat": 4,
 "nbformat_minor": 0
}
